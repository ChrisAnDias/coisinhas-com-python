{
 "cells": [
  {
   "cell_type": "markdown",
   "id": "1886cdfa",
   "metadata": {},
   "source": [
    "# S6: Introdução ao Python"
   ]
  },
  {
   "cell_type": "markdown",
   "id": "21edf666",
   "metadata": {},
   "source": [
    "## Problema 1: Funções"
   ]
  },
  {
   "cell_type": "markdown",
   "id": "07844d17",
   "metadata": {},
   "source": [
    "Fazer uma função **chamada amplitude** em que deve receber uma lista e imprima a amplitude. **(A amplitude é a diferença entre o maior e o menor número de um conjunto de valores).**"
   ]
  },
  {
   "cell_type": "code",
   "execution_count": 22,
   "id": "c6925f66",
   "metadata": {
    "ExecuteTime": {
     "end_time": "2022-01-25T08:18:31.468654Z",
     "start_time": "2022-01-25T08:18:31.447711Z"
    }
   },
   "outputs": [
    {
     "data": {
      "text/plain": [
       "23"
      ]
     },
     "execution_count": 22,
     "metadata": {},
     "output_type": "execute_result"
    }
   ],
   "source": [
    "lista = [1,22,5,6,8]\n",
    "def amplitude():\n",
    "    return (max(lista) + min(lista))\n",
    "\n",
    "amplitude()"
   ]
  },
  {
   "cell_type": "code",
   "execution_count": 23,
   "id": "97cbc2b3",
   "metadata": {
    "ExecuteTime": {
     "end_time": "2022-01-25T08:20:04.660761Z",
     "start_time": "2022-01-25T08:19:53.175734Z"
    }
   },
   "outputs": [
    {
     "name": "stdout",
     "output_type": "stream",
     "text": [
      "Vamos fazer uma lista. Digite abaixo o número que elementoe que você quer que tenha nessa lista:3\n",
      "5\n",
      "2\n",
      "22\n",
      "[5, 2, 22]\n",
      "24\n"
     ]
    }
   ],
   "source": [
    "list0 = []\n",
    "n = int(input('Vamos fazer uma lista. Digite abaixo o número que elementoe que você quer que tenha nessa lista:'))\n",
    "for i in range(0, n):\n",
    "        listu = int(input())\n",
    "        \n",
    "        list0.append(listu)\n",
    "        \n",
    "print(list0)\n",
    "        \n",
    "def amplitude(l):\n",
    "    return(max(list0) + min(list0))\n",
    "x = amplitude(list0)\n",
    "print(x)"
   ]
  },
  {
   "cell_type": "markdown",
   "id": "e93edebb",
   "metadata": {},
   "source": [
    "## Problema 2: Funções"
   ]
  },
  {
   "cell_type": "markdown",
   "id": "3c4f2957",
   "metadata": {},
   "source": [
    "Fazer uma função que recebe uma string e retorna esta na vertical."
   ]
  },
  {
   "cell_type": "code",
   "execution_count": 40,
   "id": "41b27224",
   "metadata": {
    "ExecuteTime": {
     "end_time": "2022-01-25T08:47:01.046280Z",
     "start_time": "2022-01-25T08:47:01.029326Z"
    }
   },
   "outputs": [
    {
     "name": "stdout",
     "output_type": "stream",
     "text": [
      "b\n",
      "o\n",
      "l\n",
      "a\n"
     ]
    }
   ],
   "source": [
    "def strv(texto):\n",
    "    for i in range(0,len(texto)):\n",
    "        print(texto[i])\n",
    "\n",
    "strv('bola')\n",
    "\n",
    "    "
   ]
  },
  {
   "cell_type": "markdown",
   "id": "738ea7c9",
   "metadata": {},
   "source": [
    "## Problema 3: Estrutura Condicional"
   ]
  },
  {
   "cell_type": "markdown",
   "id": "020051e6",
   "metadata": {},
   "source": [
    "Criar um programa que leia um peso de uma carga em números inteiros. Se o peso for até 10kg informe que o valor será 50 reais. Se for entre 11 e 20 kg, informe que o valor será 80 reais. E se for maior que 20kg o transporte não será aceito."
   ]
  },
  {
   "cell_type": "code",
   "execution_count": 7,
   "id": "c3e69fe5",
   "metadata": {
    "ExecuteTime": {
     "end_time": "2022-01-26T01:31:09.309995Z",
     "start_time": "2022-01-26T01:31:06.609713Z"
    }
   },
   "outputs": [
    {
     "name": "stdout",
     "output_type": "stream",
     "text": [
      "Insira o valor em kilos da carga:21\n",
      "O transporte não será aceito.\n"
     ]
    }
   ],
   "source": [
    "peso = int(input('Insira o valor em kilos da carga:'))\n",
    "if peso < 10:\n",
    "    print('O valor pago deverá ser de R$ 50,00')\n",
    "if peso >= 11 and peso <= 20:\n",
    "    print('O valor pago será de R$ 80,00')\n",
    "if peso > 20:\n",
    "    print('O transporte não será aceito.')"
   ]
  },
  {
   "cell_type": "markdown",
   "id": "3dcd86f4",
   "metadata": {},
   "source": [
    "# S10: Limpeza e Tratamento de Dados\n"
   ]
  },
  {
   "cell_type": "markdown",
   "id": "12142dde",
   "metadata": {},
   "source": [
    "- Problema Geral: \n",
    "    > Será dado um aqruivo com dados para análise e tratamento deles."
   ]
  },
  {
   "cell_type": "code",
   "execution_count": 2,
   "id": "0e8e7579",
   "metadata": {
    "ExecuteTime": {
     "end_time": "2022-02-03T08:03:08.784609Z",
     "start_time": "2022-02-03T08:03:06.514358Z"
    }
   },
   "outputs": [],
   "source": [
    "import pandas as pd\n",
    "import seaborn as srn\n",
    "import statistics as sts"
   ]
  },
  {
   "cell_type": "code",
   "execution_count": 4,
   "id": "d5fe9267",
   "metadata": {
    "ExecuteTime": {
     "end_time": "2022-02-03T08:04:43.924686Z",
     "start_time": "2022-02-03T08:04:43.901616Z"
    }
   },
   "outputs": [
    {
     "data": {
      "text/html": [
       "<div>\n",
       "<style scoped>\n",
       "    .dataframe tbody tr th:only-of-type {\n",
       "        vertical-align: middle;\n",
       "    }\n",
       "\n",
       "    .dataframe tbody tr th {\n",
       "        vertical-align: top;\n",
       "    }\n",
       "\n",
       "    .dataframe thead th {\n",
       "        text-align: right;\n",
       "    }\n",
       "</style>\n",
       "<table border=\"1\" class=\"dataframe\">\n",
       "  <thead>\n",
       "    <tr style=\"text-align: right;\">\n",
       "      <th></th>\n",
       "      <th>Aparencia</th>\n",
       "      <th>Temperatura</th>\n",
       "      <th>Umidade</th>\n",
       "      <th>Vento</th>\n",
       "      <th>Jogar</th>\n",
       "    </tr>\n",
       "  </thead>\n",
       "  <tbody>\n",
       "    <tr>\n",
       "      <th>0</th>\n",
       "      <td>sol</td>\n",
       "      <td>85</td>\n",
       "      <td>85.0</td>\n",
       "      <td>FALSO</td>\n",
       "      <td>nao</td>\n",
       "    </tr>\n",
       "    <tr>\n",
       "      <th>1</th>\n",
       "      <td>sol</td>\n",
       "      <td>80</td>\n",
       "      <td>90.0</td>\n",
       "      <td>VERDADEIRO</td>\n",
       "      <td>nao</td>\n",
       "    </tr>\n",
       "    <tr>\n",
       "      <th>2</th>\n",
       "      <td>nublado</td>\n",
       "      <td>83</td>\n",
       "      <td>86.0</td>\n",
       "      <td>FALSO</td>\n",
       "      <td>sim</td>\n",
       "    </tr>\n",
       "    <tr>\n",
       "      <th>3</th>\n",
       "      <td>chuva</td>\n",
       "      <td>70</td>\n",
       "      <td>NaN</td>\n",
       "      <td>FALSO</td>\n",
       "      <td>sim</td>\n",
       "    </tr>\n",
       "    <tr>\n",
       "      <th>4</th>\n",
       "      <td>chuva</td>\n",
       "      <td>68</td>\n",
       "      <td>80.0</td>\n",
       "      <td>FALSO</td>\n",
       "      <td>sim</td>\n",
       "    </tr>\n",
       "  </tbody>\n",
       "</table>\n",
       "</div>"
      ],
      "text/plain": [
       "  Aparencia  Temperatura  Umidade       Vento Jogar\n",
       "0       sol           85     85.0       FALSO   nao\n",
       "1       sol           80     90.0  VERDADEIRO   nao\n",
       "2   nublado           83     86.0       FALSO   sim\n",
       "3     chuva           70      NaN       FALSO   sim\n",
       "4     chuva           68     80.0       FALSO   sim"
      ]
     },
     "execution_count": 4,
     "metadata": {},
     "output_type": "execute_result"
    }
   ],
   "source": [
    "dataset = pd.read_csv('tempo.csv', sep=';')\n",
    "dataset.head()"
   ]
  },
  {
   "cell_type": "code",
   "execution_count": 6,
   "id": "1b78754e",
   "metadata": {
    "ExecuteTime": {
     "end_time": "2022-02-03T08:16:53.390600Z",
     "start_time": "2022-02-03T08:16:53.373616Z"
    }
   },
   "outputs": [
    {
     "data": {
      "text/plain": [
       "(14, 5)"
      ]
     },
     "execution_count": 6,
     "metadata": {},
     "output_type": "execute_result"
    }
   ],
   "source": [
    "dataset.shape"
   ]
  },
  {
   "cell_type": "markdown",
   "id": "1a5a9443",
   "metadata": {},
   "source": [
    "## Observações e passo a passo"
   ]
  },
  {
   "cell_type": "markdown",
   "id": "9a10d613",
   "metadata": {},
   "source": [
    "- Do banco de dado acima temos que:\n",
    " - O banco de dados tem 14 linhas (vemos apenas 5 linhas) e 5 colunas\n",
    " - Dados categóricos: Aparência | Vento | Jogar\n",
    " - Dados numéricos: Temperatura | Umidade\n",
    "<br>\n",
    "- Vamos analisar na seguinte ordem: <br>\n",
    " **1º Categóricos**: Aparencia > Vento > Jogar <br>\n",
    " **2º Numéricos**: Temperatura > Umidade <br>\n",
    " - Depois da análise, segue tratamento em mesma ordem\n",
    " "
   ]
  },
  {
   "cell_type": "markdown",
   "id": "0f4c5589",
   "metadata": {},
   "source": [
    "### Análises "
   ]
  },
  {
   "cell_type": "markdown",
   "id": "9988ccf9",
   "metadata": {},
   "source": [
    "#### Aparência"
   ]
  },
  {
   "cell_type": "code",
   "execution_count": 5,
   "id": "18a382f7",
   "metadata": {
    "ExecuteTime": {
     "end_time": "2022-02-03T08:15:51.961056Z",
     "start_time": "2022-02-03T08:15:51.951081Z"
    }
   },
   "outputs": [
    {
     "data": {
      "text/plain": [
       "Aparencia\n",
       "chuva      5\n",
       "menos      1\n",
       "nublado    3\n",
       "sol        5\n",
       "dtype: int64"
      ]
     },
     "execution_count": 5,
     "metadata": {},
     "output_type": "execute_result"
    }
   ],
   "source": [
    "agrupado = dataset.groupby(['Aparencia']).size() #filtro resummo\n",
    "agrupado"
   ]
  },
  {
   "cell_type": "markdown",
   "id": "00a2b3ba",
   "metadata": {},
   "source": [
    "- Nesse resumo consta um elemento chamado 'menos'. Fora do domínio. Verificando em gráfico:"
   ]
  },
  {
   "cell_type": "code",
   "execution_count": 7,
   "id": "eedd010b",
   "metadata": {
    "ExecuteTime": {
     "end_time": "2022-02-03T08:19:34.030139Z",
     "start_time": "2022-02-03T08:19:33.889140Z"
    },
    "scrolled": true
   },
   "outputs": [
    {
     "data": {
      "text/plain": [
       "<AxesSubplot:xlabel='Aparencia'>"
      ]
     },
     "execution_count": 7,
     "metadata": {},
     "output_type": "execute_result"
    },
    {
     "data": {
      "image/png": "[encoded data removed]",
      "text/plain": [
       "<Figure size 432x288 with 1 Axes>"
      ]
     },
     "metadata": {
      "needs_background": "light"
     },
     "output_type": "display_data"
    }
   ],
   "source": [
    "agrupado.plot.bar(color = 'gray') #gera gráfico em barra"
   ]
  },
  {
   "cell_type": "markdown",
   "id": "9e670f64",
   "metadata": {},
   "source": [
    "#### Vento"
   ]
  },
  {
   "cell_type": "code",
   "execution_count": 8,
   "id": "122a9759",
   "metadata": {
    "ExecuteTime": {
     "end_time": "2022-02-03T08:23:58.008789Z",
     "start_time": "2022-02-03T08:23:57.991734Z"
    }
   },
   "outputs": [
    {
     "data": {
      "text/plain": [
       "Vento\n",
       "FALSO         7\n",
       "VERDADEIRO    6\n",
       "dtype: int64"
      ]
     },
     "execution_count": 8,
     "metadata": {},
     "output_type": "execute_result"
    }
   ],
   "source": [
    "agrupado = dataset.groupby(['Vento']).size()\n",
    "agrupado"
   ]
  },
  {
   "cell_type": "code",
   "execution_count": 11,
   "id": "a4ad883e",
   "metadata": {
    "ExecuteTime": {
     "end_time": "2022-02-03T08:27:08.062562Z",
     "start_time": "2022-02-03T08:27:07.973726Z"
    }
   },
   "outputs": [
    {
     "data": {
      "text/plain": [
       "<AxesSubplot:xlabel='Vento'>"
      ]
     },
     "execution_count": 11,
     "metadata": {},
     "output_type": "execute_result"
    },
    {
     "data": {
      "image/png": "[encoded data removed]",
      "text/plain": [
       "<Figure size 432x288 with 1 Axes>"
      ]
     },
     "metadata": {
      "needs_background": "light"
     },
     "output_type": "display_data"
    }
   ],
   "source": [
    "agrupado.plot.bar(color = 'black')"
   ]
  },
  {
   "cell_type": "markdown",
   "id": "4ec8802c",
   "metadata": {},
   "source": [
    "#### Jogar"
   ]
  },
  {
   "cell_type": "code",
   "execution_count": 13,
   "id": "4bb4fef5",
   "metadata": {
    "ExecuteTime": {
     "end_time": "2022-02-03T08:28:02.532719Z",
     "start_time": "2022-02-03T08:28:02.524713Z"
    }
   },
   "outputs": [
    {
     "data": {
      "text/plain": [
       "Jogar\n",
       "nao    5\n",
       "sim    9\n",
       "dtype: int64"
      ]
     },
     "execution_count": 13,
     "metadata": {},
     "output_type": "execute_result"
    }
   ],
   "source": [
    "agrupado = dataset.groupby(['Jogar']).size()\n",
    "agrupado"
   ]
  },
  {
   "cell_type": "code",
   "execution_count": 15,
   "id": "04d31216",
   "metadata": {
    "ExecuteTime": {
     "end_time": "2022-02-03T08:28:35.232956Z",
     "start_time": "2022-02-03T08:28:35.148526Z"
    }
   },
   "outputs": [
    {
     "data": {
      "text/plain": [
       "<AxesSubplot:xlabel='Jogar'>"
      ]
     },
     "execution_count": 15,
     "metadata": {},
     "output_type": "execute_result"
    },
    {
     "data": {
      "image/png": "[encoded data removed]",
      "text/plain": [
       "<Figure size 432x288 with 1 Axes>"
      ]
     },
     "metadata": {
      "needs_background": "light"
     },
     "output_type": "display_data"
    }
   ],
   "source": [
    "agrupado.plot.bar(color = 'pink')"
   ]
  },
  {
   "cell_type": "markdown",
   "id": "238429b7",
   "metadata": {},
   "source": [
    "#### Temperatura"
   ]
  },
  {
   "cell_type": "code",
   "execution_count": 16,
   "id": "f698c03c",
   "metadata": {
    "ExecuteTime": {
     "end_time": "2022-02-03T08:30:13.683373Z",
     "start_time": "2022-02-03T08:30:13.669410Z"
    }
   },
   "outputs": [
    {
     "data": {
      "text/plain": [
       "count      14.000000\n",
       "mean      155.571429\n",
       "std       306.433759\n",
       "min        64.000000\n",
       "25%        69.250000\n",
       "50%        73.500000\n",
       "75%        80.750000\n",
       "max      1220.000000\n",
       "Name: Temperatura, dtype: float64"
      ]
     },
     "execution_count": 16,
     "metadata": {},
     "output_type": "execute_result"
    }
   ],
   "source": [
    "dataset['Temperatura'].describe()"
   ]
  },
  {
   "cell_type": "markdown",
   "id": "7788aa2d",
   "metadata": {},
   "source": [
    "- Observando a **mean** e o **50%**, é possível verificar uma distância entre esses valores."
   ]
  },
  {
   "cell_type": "code",
   "execution_count": 35,
   "id": "511e485f",
   "metadata": {
    "ExecuteTime": {
     "end_time": "2022-02-03T09:07:38.026163Z",
     "start_time": "2022-02-03T09:07:37.729776Z"
    }
   },
   "outputs": [
    {
     "data": {
      "text/plain": [
       "<seaborn.axisgrid.FacetGrid at 0x1751cf93130>"
      ]
     },
     "execution_count": 35,
     "metadata": {},
     "output_type": "execute_result"
    },
    {
     "data": {
      "image/png": "[encoded data removed]",
      "text/plain": [
       "<Figure size 360x360 with 1 Axes>"
      ]
     },
     "metadata": {
      "needs_background": "light"
     },
     "output_type": "display_data"
    }
   ],
   "source": [
    "srn.displot(dataset['Temperatura'])"
   ]
  },
  {
   "cell_type": "code",
   "execution_count": 34,
   "id": "38213f36",
   "metadata": {
    "ExecuteTime": {
     "end_time": "2022-02-03T09:07:35.792525Z",
     "start_time": "2022-02-03T09:07:35.713778Z"
    },
    "scrolled": true
   },
   "outputs": [
    {
     "name": "stderr",
     "output_type": "stream",
     "text": [
      "C:\\Users\\Christyna Dias\\anaconda3\\lib\\site-packages\\seaborn\\_decorators.py:36: FutureWarning: Pass the following variable as a keyword arg: x. From version 0.12, the only valid positional argument will be `data`, and passing other arguments without an explicit keyword will result in an error or misinterpretation.\n",
      "  warnings.warn(\n"
     ]
    },
    {
     "data": {
      "text/plain": [
       "<AxesSubplot:xlabel='Temperatura'>"
      ]
     },
     "execution_count": 34,
     "metadata": {},
     "output_type": "execute_result"
    },
    {
     "data": {
      "image/png": "[encoded data removed]",
      "text/plain": [
       "<Figure size 432x288 with 1 Axes>"
      ]
     },
     "metadata": {
      "needs_background": "light"
     },
     "output_type": "display_data"
    }
   ],
   "source": [
    "srn.boxplot(dataset['Temperatura'])"
   ]
  },
  {
   "cell_type": "markdown",
   "id": "308eddd3",
   "metadata": {},
   "source": [
    "#### Umidade"
   ]
  },
  {
   "cell_type": "code",
   "execution_count": 36,
   "id": "55c7cb06",
   "metadata": {
    "ExecuteTime": {
     "end_time": "2022-02-03T09:09:00.364937Z",
     "start_time": "2022-02-03T09:09:00.353967Z"
    }
   },
   "outputs": [
    {
     "data": {
      "text/plain": [
       "count     13.000000\n",
       "mean      89.769231\n",
       "std       34.540203\n",
       "min       65.000000\n",
       "25%       70.000000\n",
       "50%       85.000000\n",
       "75%       90.000000\n",
       "max      200.000000\n",
       "Name: Umidade, dtype: float64"
      ]
     },
     "execution_count": 36,
     "metadata": {},
     "output_type": "execute_result"
    }
   ],
   "source": [
    "dataset['Umidade'].describe()"
   ]
  },
  {
   "cell_type": "markdown",
   "id": "e27ad357",
   "metadata": {},
   "source": [
    "- **mean** e **50%** não estão tão distantes"
   ]
  },
  {
   "cell_type": "code",
   "execution_count": 58,
   "id": "ec5a091a",
   "metadata": {
    "ExecuteTime": {
     "end_time": "2022-02-03T23:03:33.469589Z",
     "start_time": "2022-02-03T23:03:33.311863Z"
    }
   },
   "outputs": [
    {
     "data": {
      "text/plain": [
       "<seaborn.axisgrid.FacetGrid at 0x1751e4f6670>"
      ]
     },
     "execution_count": 58,
     "metadata": {},
     "output_type": "execute_result"
    },
    {
     "data": {
      "image/png": "[encoded data removed]",
      "text/plain": [
       "<Figure size 360x360 with 1 Axes>"
      ]
     },
     "metadata": {
      "needs_background": "light"
     },
     "output_type": "display_data"
    }
   ],
   "source": [
    "srn.displot(dataset['Umidade'])"
   ]
  },
  {
   "cell_type": "code",
   "execution_count": 57,
   "id": "e06753b2",
   "metadata": {
    "ExecuteTime": {
     "end_time": "2022-02-03T23:02:34.588703Z",
     "start_time": "2022-02-03T23:02:34.503906Z"
    },
    "scrolled": true
   },
   "outputs": [
    {
     "name": "stderr",
     "output_type": "stream",
     "text": [
      "C:\\Users\\Christyna Dias\\anaconda3\\lib\\site-packages\\seaborn\\_decorators.py:36: FutureWarning: Pass the following variable as a keyword arg: x. From version 0.12, the only valid positional argument will be `data`, and passing other arguments without an explicit keyword will result in an error or misinterpretation.\n",
      "  warnings.warn(\n"
     ]
    },
    {
     "data": {
      "text/plain": [
       "Text(0.5, 1.0, 'Umidade')"
      ]
     },
     "execution_count": 57,
     "metadata": {},
     "output_type": "execute_result"
    },
    {
     "data": {
      "image/png": "[encoded data removed]",
      "text/plain": [
       "<Figure size 432x288 with 1 Axes>"
      ]
     },
     "metadata": {
      "needs_background": "light"
     },
     "output_type": "display_data"
    }
   ],
   "source": [
    "srn.boxplot(dataset['Umidade']).set_title('Umidade')\n",
    "#set_title('Umidade') põe o título 'Umidade' acima do gráfico"
   ]
  },
  {
   "cell_type": "markdown",
   "id": "c6d1bbbd",
   "metadata": {},
   "source": [
    "- No gráfico **boxplot** é possível ver um dado outlines."
   ]
  },
  {
   "cell_type": "markdown",
   "id": "342b710d",
   "metadata": {},
   "source": [
    "#### Valores Nulos NAN"
   ]
  },
  {
   "cell_type": "code",
   "execution_count": 59,
   "id": "da8cec92",
   "metadata": {
    "ExecuteTime": {
     "end_time": "2022-02-03T23:09:26.061445Z",
     "start_time": "2022-02-03T23:09:26.055461Z"
    }
   },
   "outputs": [
    {
     "data": {
      "text/plain": [
       "Aparencia      0\n",
       "Temperatura    0\n",
       "Umidade        1\n",
       "Vento          1\n",
       "Jogar          0\n",
       "dtype: int64"
      ]
     },
     "execution_count": 59,
     "metadata": {},
     "output_type": "execute_result"
    }
   ],
   "source": [
    "#Soma quantidade de valores núlo de cada coluna\n",
    "dataset.isnull().sum() "
   ]
  },
  {
   "cell_type": "markdown",
   "id": "5eebc04a",
   "metadata": {},
   "source": [
    "- Dado que há valores nulos, na coluna Umidade e Vento. "
   ]
  },
  {
   "cell_type": "markdown",
   "id": "a767eeea",
   "metadata": {},
   "source": [
    "### Tratamento"
   ]
  },
  {
   "cell_type": "markdown",
   "id": "17aabb4e",
   "metadata": {},
   "source": [
    "#### Aparência"
   ]
  },
  {
   "cell_type": "markdown",
   "id": "0e61d422",
   "metadata": {},
   "source": [
    " - Como visto no tópico 2.1.1.1, dentro dos valores 'Aparência' aparece um valor 'fora de domínio'. Que é o **menos**. \n",
    " - A ideia é substotuí-lo pela moda."
   ]
  },
  {
   "cell_type": "code",
   "execution_count": 61,
   "id": "1def1b53",
   "metadata": {
    "ExecuteTime": {
     "end_time": "2022-02-03T23:39:21.290330Z",
     "start_time": "2022-02-03T23:39:21.284336Z"
    }
   },
   "outputs": [
    {
     "data": {
      "text/plain": [
       "Aparencia\n",
       "chuva      5\n",
       "menos      1\n",
       "nublado    3\n",
       "sol        5\n",
       "dtype: int64"
      ]
     },
     "execution_count": 61,
     "metadata": {},
     "output_type": "execute_result"
    }
   ],
   "source": [
    "agrupado = dataset.groupby('Aparencia').size()\n",
    "agrupado"
   ]
  },
  {
   "cell_type": "markdown",
   "id": "548dbac9",
   "metadata": {},
   "source": [
    "- A moda é Chuva ou Sol. Vamos colocar Sol por imaginar que **para o negócio** é interessante que se faça sol para que se possa jogar. Sendo positivos e contando com a positividade do clima. \n",
    "- **Para um caso real**, talvez fosse necessário analizar o **histórico** do clima da região nos últimos anos pars o período especificado, e poder escolher entre um ou o outro."
   ]
  },
  {
   "cell_type": "code",
   "execution_count": 63,
   "id": "c8f055da",
   "metadata": {
    "ExecuteTime": {
     "end_time": "2022-02-03T23:45:22.598878Z",
     "start_time": "2022-02-03T23:45:22.579930Z"
    }
   },
   "outputs": [
    {
     "data": {
      "text/plain": [
       "Aparencia\n",
       "chuva      5\n",
       "nublado    3\n",
       "sol        6\n",
       "dtype: int64"
      ]
     },
     "execution_count": 63,
     "metadata": {},
     "output_type": "execute_result"
    }
   ],
   "source": [
    "dataset.loc[dataset['Aparencia'] == 'menos', 'Aparencia'] = 'sol'\n",
    "agrupado = dataset.groupby('Aparencia').size()\n",
    "agrupado"
   ]
  },
  {
   "cell_type": "markdown",
   "id": "a0e579c1",
   "metadata": {},
   "source": [
    "#### Temperatura"
   ]
  },
  {
   "cell_type": "markdown",
   "id": "d8ee6ad3",
   "metadata": {},
   "source": [
    "- Como visto no ponto 2.1.1.4, o valor máximo da temperatura excete os +130F. Precisamos **ajustar o domínio** da temperatura, **levando os valores que estão fora do domínio para o valor que representa a mediana.**"
   ]
  },
  {
   "cell_type": "code",
   "execution_count": 73,
   "id": "3f466c9c",
   "metadata": {
    "ExecuteTime": {
     "end_time": "2022-02-04T00:17:00.312800Z",
     "start_time": "2022-02-04T00:17:00.297830Z"
    }
   },
   "outputs": [
    {
     "data": {
      "text/html": [
       "<div>\n",
       "<style scoped>\n",
       "    .dataframe tbody tr th:only-of-type {\n",
       "        vertical-align: middle;\n",
       "    }\n",
       "\n",
       "    .dataframe tbody tr th {\n",
       "        vertical-align: top;\n",
       "    }\n",
       "\n",
       "    .dataframe thead th {\n",
       "        text-align: right;\n",
       "    }\n",
       "</style>\n",
       "<table border=\"1\" class=\"dataframe\">\n",
       "  <thead>\n",
       "    <tr style=\"text-align: right;\">\n",
       "      <th></th>\n",
       "      <th>Aparencia</th>\n",
       "      <th>Temperatura</th>\n",
       "      <th>Umidade</th>\n",
       "      <th>Vento</th>\n",
       "      <th>Jogar</th>\n",
       "    </tr>\n",
       "  </thead>\n",
       "  <tbody>\n",
       "    <tr>\n",
       "      <th>0</th>\n",
       "      <td>sol</td>\n",
       "      <td>85</td>\n",
       "      <td>85.0</td>\n",
       "      <td>FALSO</td>\n",
       "      <td>nao</td>\n",
       "    </tr>\n",
       "    <tr>\n",
       "      <th>1</th>\n",
       "      <td>sol</td>\n",
       "      <td>80</td>\n",
       "      <td>90.0</td>\n",
       "      <td>VERDADEIRO</td>\n",
       "      <td>nao</td>\n",
       "    </tr>\n",
       "    <tr>\n",
       "      <th>2</th>\n",
       "      <td>nublado</td>\n",
       "      <td>83</td>\n",
       "      <td>86.0</td>\n",
       "      <td>FALSO</td>\n",
       "      <td>sim</td>\n",
       "    </tr>\n",
       "    <tr>\n",
       "      <th>3</th>\n",
       "      <td>chuva</td>\n",
       "      <td>70</td>\n",
       "      <td>NaN</td>\n",
       "      <td>FALSO</td>\n",
       "      <td>sim</td>\n",
       "    </tr>\n",
       "    <tr>\n",
       "      <th>4</th>\n",
       "      <td>chuva</td>\n",
       "      <td>68</td>\n",
       "      <td>80.0</td>\n",
       "      <td>FALSO</td>\n",
       "      <td>sim</td>\n",
       "    </tr>\n",
       "    <tr>\n",
       "      <th>5</th>\n",
       "      <td>chuva</td>\n",
       "      <td>65</td>\n",
       "      <td>70.0</td>\n",
       "      <td>VERDADEIRO</td>\n",
       "      <td>nao</td>\n",
       "    </tr>\n",
       "    <tr>\n",
       "      <th>6</th>\n",
       "      <td>sol</td>\n",
       "      <td>64</td>\n",
       "      <td>65.0</td>\n",
       "      <td>VERDADEIRO</td>\n",
       "      <td>sim</td>\n",
       "    </tr>\n",
       "    <tr>\n",
       "      <th>7</th>\n",
       "      <td>sol</td>\n",
       "      <td>1220</td>\n",
       "      <td>95.0</td>\n",
       "      <td>FALSO</td>\n",
       "      <td>nao</td>\n",
       "    </tr>\n",
       "    <tr>\n",
       "      <th>8</th>\n",
       "      <td>sol</td>\n",
       "      <td>69</td>\n",
       "      <td>70.0</td>\n",
       "      <td>FALSO</td>\n",
       "      <td>sim</td>\n",
       "    </tr>\n",
       "    <tr>\n",
       "      <th>9</th>\n",
       "      <td>chuva</td>\n",
       "      <td>75</td>\n",
       "      <td>200.0</td>\n",
       "      <td>NaN</td>\n",
       "      <td>sim</td>\n",
       "    </tr>\n",
       "    <tr>\n",
       "      <th>10</th>\n",
       "      <td>sol</td>\n",
       "      <td>75</td>\n",
       "      <td>70.0</td>\n",
       "      <td>VERDADEIRO</td>\n",
       "      <td>sim</td>\n",
       "    </tr>\n",
       "    <tr>\n",
       "      <th>11</th>\n",
       "      <td>nublado</td>\n",
       "      <td>72</td>\n",
       "      <td>90.0</td>\n",
       "      <td>VERDADEIRO</td>\n",
       "      <td>sim</td>\n",
       "    </tr>\n",
       "    <tr>\n",
       "      <th>12</th>\n",
       "      <td>nublado</td>\n",
       "      <td>81</td>\n",
       "      <td>75.0</td>\n",
       "      <td>FALSO</td>\n",
       "      <td>sim</td>\n",
       "    </tr>\n",
       "    <tr>\n",
       "      <th>13</th>\n",
       "      <td>chuva</td>\n",
       "      <td>71</td>\n",
       "      <td>91.0</td>\n",
       "      <td>VERDADEIRO</td>\n",
       "      <td>nao</td>\n",
       "    </tr>\n",
       "  </tbody>\n",
       "</table>\n",
       "</div>"
      ],
      "text/plain": [
       "   Aparencia  Temperatura  Umidade       Vento Jogar\n",
       "0        sol           85     85.0       FALSO   nao\n",
       "1        sol           80     90.0  VERDADEIRO   nao\n",
       "2    nublado           83     86.0       FALSO   sim\n",
       "3      chuva           70      NaN       FALSO   sim\n",
       "4      chuva           68     80.0       FALSO   sim\n",
       "5      chuva           65     70.0  VERDADEIRO   nao\n",
       "6        sol           64     65.0  VERDADEIRO   sim\n",
       "7        sol         1220     95.0       FALSO   nao\n",
       "8        sol           69     70.0       FALSO   sim\n",
       "9      chuva           75    200.0         NaN   sim\n",
       "10       sol           75     70.0  VERDADEIRO   sim\n",
       "11   nublado           72     90.0  VERDADEIRO   sim\n",
       "12   nublado           81     75.0       FALSO   sim\n",
       "13     chuva           71     91.0  VERDADEIRO   nao"
      ]
     },
     "execution_count": 73,
     "metadata": {},
     "output_type": "execute_result"
    }
   ],
   "source": [
    "dataset.loc[(dataset['Temperatura'] > -130) | (dataset['Temperatura'] < 130)]"
   ]
  },
  {
   "cell_type": "code",
   "execution_count": 75,
   "id": "65475976",
   "metadata": {
    "ExecuteTime": {
     "end_time": "2022-02-04T00:17:28.203473Z",
     "start_time": "2022-02-04T00:17:28.185520Z"
    }
   },
   "outputs": [
    {
     "data": {
      "text/plain": [
       "73.5"
      ]
     },
     "execution_count": 75,
     "metadata": {},
     "output_type": "execute_result"
    }
   ],
   "source": [
    "mediana = sts.median(dataset['Temperatura']) #código para calcular mediana pelo pacote statistics. para coluna de 'Temp'\n",
    "mediana"
   ]
  },
  {
   "cell_type": "code",
   "execution_count": 78,
   "id": "e54989cc",
   "metadata": {
    "ExecuteTime": {
     "end_time": "2022-02-04T00:19:11.940702Z",
     "start_time": "2022-02-04T00:19:11.929732Z"
    }
   },
   "outputs": [
    {
     "data": {
      "text/html": [
       "<div>\n",
       "<style scoped>\n",
       "    .dataframe tbody tr th:only-of-type {\n",
       "        vertical-align: middle;\n",
       "    }\n",
       "\n",
       "    .dataframe tbody tr th {\n",
       "        vertical-align: top;\n",
       "    }\n",
       "\n",
       "    .dataframe thead th {\n",
       "        text-align: right;\n",
       "    }\n",
       "</style>\n",
       "<table border=\"1\" class=\"dataframe\">\n",
       "  <thead>\n",
       "    <tr style=\"text-align: right;\">\n",
       "      <th></th>\n",
       "      <th>Aparencia</th>\n",
       "      <th>Temperatura</th>\n",
       "      <th>Umidade</th>\n",
       "      <th>Vento</th>\n",
       "      <th>Jogar</th>\n",
       "    </tr>\n",
       "  </thead>\n",
       "  <tbody>\n",
       "  </tbody>\n",
       "</table>\n",
       "</div>"
      ],
      "text/plain": [
       "Empty DataFrame\n",
       "Columns: [Aparencia, Temperatura, Umidade, Vento, Jogar]\n",
       "Index: []"
      ]
     },
     "execution_count": 78,
     "metadata": {},
     "output_type": "execute_result"
    }
   ],
   "source": [
    "#Substituição dos dados abaixo de -130 e acima de 130 da coluna 'Temperatura' para mediana.\n",
    "dataset.loc[(dataset['Temperatura'] < -130) | (dataset['Temperatura'] > 130), 'Temperatura'] = mediana\n",
    "dataset.loc[(dataset['Temperatura'] <-130) | (dataset['Temperatura'] > 130)]"
   ]
  },
  {
   "cell_type": "markdown",
   "id": "ed1398d2",
   "metadata": {},
   "source": [
    "#### Umidade"
   ]
  },
  {
   "cell_type": "markdown",
   "id": "43d9559b",
   "metadata": {},
   "source": [
    "- Como visto no ponto 2.1.1.5, existem valores que excedem o limiar superior que é de 100. \n",
    "- Imitando o procedimento anterior temos que :"
   ]
  },
  {
   "cell_type": "code",
   "execution_count": 79,
   "id": "28a3eb96",
   "metadata": {
    "ExecuteTime": {
     "end_time": "2022-02-04T00:26:16.407863Z",
     "start_time": "2022-02-04T00:26:16.393901Z"
    }
   },
   "outputs": [
    {
     "data": {
      "text/html": [
       "<div>\n",
       "<style scoped>\n",
       "    .dataframe tbody tr th:only-of-type {\n",
       "        vertical-align: middle;\n",
       "    }\n",
       "\n",
       "    .dataframe tbody tr th {\n",
       "        vertical-align: top;\n",
       "    }\n",
       "\n",
       "    .dataframe thead th {\n",
       "        text-align: right;\n",
       "    }\n",
       "</style>\n",
       "<table border=\"1\" class=\"dataframe\">\n",
       "  <thead>\n",
       "    <tr style=\"text-align: right;\">\n",
       "      <th></th>\n",
       "      <th>Aparencia</th>\n",
       "      <th>Temperatura</th>\n",
       "      <th>Umidade</th>\n",
       "      <th>Vento</th>\n",
       "      <th>Jogar</th>\n",
       "    </tr>\n",
       "  </thead>\n",
       "  <tbody>\n",
       "    <tr>\n",
       "      <th>9</th>\n",
       "      <td>chuva</td>\n",
       "      <td>73.5</td>\n",
       "      <td>200.0</td>\n",
       "      <td>NaN</td>\n",
       "      <td>sim</td>\n",
       "    </tr>\n",
       "  </tbody>\n",
       "</table>\n",
       "</div>"
      ],
      "text/plain": [
       "  Aparencia  Temperatura  Umidade Vento Jogar\n",
       "9     chuva         73.5    200.0   NaN   sim"
      ]
     },
     "execution_count": 79,
     "metadata": {},
     "output_type": "execute_result"
    }
   ],
   "source": [
    "dataset.loc[(dataset['Umidade'] < 0) | (dataset['Umidade'] > 100)]"
   ]
  },
  {
   "cell_type": "code",
   "execution_count": 80,
   "id": "0f6ecb86",
   "metadata": {
    "ExecuteTime": {
     "end_time": "2022-02-04T00:27:34.140793Z",
     "start_time": "2022-02-04T00:27:34.129822Z"
    }
   },
   "outputs": [
    {
     "data": {
      "text/plain": [
       "85.5"
      ]
     },
     "execution_count": 80,
     "metadata": {},
     "output_type": "execute_result"
    }
   ],
   "source": [
    "mediana = sts.median(dataset['Umidade'])\n",
    "mediana"
   ]
  },
  {
   "cell_type": "code",
   "execution_count": 83,
   "id": "ade5f532",
   "metadata": {
    "ExecuteTime": {
     "end_time": "2022-02-04T00:30:06.393055Z",
     "start_time": "2022-02-04T00:30:06.377100Z"
    }
   },
   "outputs": [
    {
     "data": {
      "text/html": [
       "<div>\n",
       "<style scoped>\n",
       "    .dataframe tbody tr th:only-of-type {\n",
       "        vertical-align: middle;\n",
       "    }\n",
       "\n",
       "    .dataframe tbody tr th {\n",
       "        vertical-align: top;\n",
       "    }\n",
       "\n",
       "    .dataframe thead th {\n",
       "        text-align: right;\n",
       "    }\n",
       "</style>\n",
       "<table border=\"1\" class=\"dataframe\">\n",
       "  <thead>\n",
       "    <tr style=\"text-align: right;\">\n",
       "      <th></th>\n",
       "      <th>Aparencia</th>\n",
       "      <th>Temperatura</th>\n",
       "      <th>Umidade</th>\n",
       "      <th>Vento</th>\n",
       "      <th>Jogar</th>\n",
       "    </tr>\n",
       "  </thead>\n",
       "  <tbody>\n",
       "  </tbody>\n",
       "</table>\n",
       "</div>"
      ],
      "text/plain": [
       "Empty DataFrame\n",
       "Columns: [Aparencia, Temperatura, Umidade, Vento, Jogar]\n",
       "Index: []"
      ]
     },
     "execution_count": 83,
     "metadata": {},
     "output_type": "execute_result"
    }
   ],
   "source": [
    "dataset.loc[(dataset['Umidade'] < 0) | (dataset['Umidade'] > 100), 'Umidade'] = mediana\n",
    "dataset.loc[(dataset['Umidade'] < 0) | (dataset['Umidade'] > 100)]"
   ]
  },
  {
   "cell_type": "markdown",
   "id": "6b31b7fa",
   "metadata": {},
   "source": [
    "- Como visto no tópico 2.1.1.6, a coluna 'Umidade' possui valores nulos"
   ]
  },
  {
   "cell_type": "code",
   "execution_count": 87,
   "id": "53c60d0e",
   "metadata": {
    "ExecuteTime": {
     "end_time": "2022-02-04T00:35:28.268447Z",
     "start_time": "2022-02-04T00:35:28.256480Z"
    }
   },
   "outputs": [
    {
     "data": {
      "text/plain": [
       "Umidade\n",
       "65.0    1\n",
       "70.0    3\n",
       "75.0    1\n",
       "80.0    1\n",
       "85.0    1\n",
       "85.5    1\n",
       "86.0    1\n",
       "90.0    2\n",
       "91.0    1\n",
       "95.0    1\n",
       "dtype: int64"
      ]
     },
     "execution_count": 87,
     "metadata": {},
     "output_type": "execute_result"
    }
   ],
   "source": [
    "agrupado = dataset.groupby(['Umidade']).size()\n",
    "agrupado"
   ]
  },
  {
   "cell_type": "code",
   "execution_count": 88,
   "id": "836f352f",
   "metadata": {
    "ExecuteTime": {
     "end_time": "2022-02-04T01:18:54.195583Z",
     "start_time": "2022-02-04T01:18:54.184586Z"
    }
   },
   "outputs": [
    {
     "data": {
      "text/plain": [
       "1"
      ]
     },
     "execution_count": 88,
     "metadata": {},
     "output_type": "execute_result"
    }
   ],
   "source": [
    "dataset['Umidade'].isnull().sum() #retorna a soma da quantidade de elementos nulos"
   ]
  },
  {
   "cell_type": "code",
   "execution_count": 90,
   "id": "0079534f",
   "metadata": {
    "ExecuteTime": {
     "end_time": "2022-02-06T11:24:59.457035Z",
     "start_time": "2022-02-06T11:24:59.425093Z"
    }
   },
   "outputs": [
    {
     "data": {
      "text/plain": [
       "85.5"
      ]
     },
     "execution_count": 90,
     "metadata": {},
     "output_type": "execute_result"
    }
   ],
   "source": [
    "mediana = sts.median(dataset['Umidade'])\n",
    "mediana"
   ]
  },
  {
   "cell_type": "code",
   "execution_count": 92,
   "id": "380e3a21",
   "metadata": {
    "ExecuteTime": {
     "end_time": "2022-02-06T11:26:28.920756Z",
     "start_time": "2022-02-06T11:26:28.887847Z"
    }
   },
   "outputs": [
    {
     "data": {
      "text/plain": [
       "0"
      ]
     },
     "execution_count": 92,
     "metadata": {},
     "output_type": "execute_result"
    }
   ],
   "source": [
    "dataset['Umidade'].fillna(mediana, inplace=True) #subsitui o valor nulo pela mediana\n",
    "dataset['Umidade'].isnull().sum()"
   ]
  },
  {
   "cell_type": "markdown",
   "id": "54d4b2a1",
   "metadata": {},
   "source": [
    "#### Vento"
   ]
  },
  {
   "cell_type": "markdown",
   "id": "6bdee9ed",
   "metadata": {},
   "source": [
    "- Como visto no tópico 2.1.1.2, a coluna vento retorna se é 'Verdadeiro' ou 'Falso'. Então, trata-se de um dado categórico. \n",
    "- Não há valores fora de domínio (fora de 'Verdadeiro' ou 'Falso'). \n",
    "- **Precisamos verificar se há dados nulos**, e havendo, transformá-lo na moda (visto que é um dado categórico). "
   ]
  },
  {
   "cell_type": "code",
   "execution_count": 97,
   "id": "e7c3f34b",
   "metadata": {
    "ExecuteTime": {
     "end_time": "2022-02-06T11:54:56.247222Z",
     "start_time": "2022-02-06T11:54:56.222289Z"
    }
   },
   "outputs": [
    {
     "data": {
      "text/plain": [
       "1"
      ]
     },
     "execution_count": 97,
     "metadata": {},
     "output_type": "execute_result"
    }
   ],
   "source": [
    "dataset['Vento'].isnull().sum() "
   ]
  },
  {
   "cell_type": "code",
   "execution_count": 98,
   "id": "56083e5e",
   "metadata": {
    "ExecuteTime": {
     "end_time": "2022-02-06T11:57:12.602682Z",
     "start_time": "2022-02-06T11:57:12.582734Z"
    }
   },
   "outputs": [
    {
     "data": {
      "text/plain": [
       "0"
      ]
     },
     "execution_count": 98,
     "metadata": {},
     "output_type": "execute_result"
    }
   ],
   "source": [
    "dataset['Vento'].fillna('FALSO', inplace=True)\n",
    "dataset['Vento'].isnull().sum()"
   ]
  }
 ],
 "metadata": {
  "kernelspec": {
   "display_name": "Python 3 (ipykernel)",
   "language": "python",
   "name": "python3"
  },
  "language_info": {
   "codemirror_mode": {
    "name": "ipython",
    "version": 3
   },
   "file_extension": ".py",
   "mimetype": "text/x-python",
   "name": "python",
   "nbconvert_exporter": "python",
   "pygments_lexer": "ipython3",
   "version": "3.9.7"
  },
  "toc": {
   "base_numbering": 1,
   "nav_menu": {},
   "number_sections": true,
   "sideBar": true,
   "skip_h1_title": false,
   "title_cell": "Table of Contents",
   "title_sidebar": "Contents",
   "toc_cell": false,
   "toc_position": {
    "height": "calc(100% - 180px)",
    "left": "10px",
    "top": "150px",
    "width": "265.188px"
   },
   "toc_section_display": true,
   "toc_window_display": true
  }
 },
 "nbformat": 4,
 "nbformat_minor": 5
}
